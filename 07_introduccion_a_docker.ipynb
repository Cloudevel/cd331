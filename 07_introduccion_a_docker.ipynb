{
 "cells": [
  {
   "cell_type": "markdown",
   "metadata": {},
   "source": [
    "![cloudevel](imagenes/cloudevel-fondo-twitter.png)"
   ]
  },
  {
   "cell_type": "markdown",
   "metadata": {},
   "source": [
    "Docker es una herramienta que aprovecha las ventajas de GNU/Linux  para crear y gestionar contenedores tales como ```cgroups```.\n",
    "\n",
    "En versiones previas, Docker estaba basado en [LXC](https://linuxcontainers.org/lxc/introduction/), pero a partir de la versión  0.9, Docker utiliza su propia biblioteca llamada ```libcontainer```.\n",
    "\n",
    "El el caso de ser utilizado en un entorno GNU/Linux, Docker es instalado como un servicio del sistema.\n",
    "\n",
    "Recientemente, Docker ha aprovechado las capacidades Hyper-V de Windows para ofrecer contenedores nativos. Sin embargo, Hyper-V no está disponible en versiones básicas de Windows como la versión Home."
   ]
  },
  {
   "cell_type": "markdown",
   "metadata": {},
   "source": [
    "## Ediciones de Docker.\n",
    "\n",
    "Docker ofrece una versión empresarial de su herramienta llamada *Docker Enterprise Edition (EE)* y una versión libre llamada *Docker Community Edition (CE)*."
   ]
  },
  {
   "cell_type": "markdown",
   "metadata": {},
   "source": [
    "### *Docker CE for Windows*.\n",
    "\n",
    "En el sitio de descargas de Docker CE, se puede descargar el paquete *Docker CE for Windows*, el cual aprovecha las funcionalidades de Hyper-V. \n",
    "\n",
    "**Advertencia:** *Docker CE for Windows* hace algunas modificaciones en el sistema operativo que puede provocar que algunos otros hipervisores tales como Virtualbox sean inutilizables.\n",
    "\n",
    "Los detalles de requerimientos para *Docker CE for Windows* pueden ser consultados en https://docs.docker.com/docker-for-windows/install/.\n",
    "\n",
    "### *Docker Toolbox*.\n",
    "\n",
    "En el caso de no contar con los requisitos mínimos para instalar *Docker CE for Windows*, está disponible Docker Toolbox, el cual utiliza Virtualbox en vez de Hyper-V. \n",
    "\n",
    "*Docker Toolbox* está disponible tanto para Mac como para Windows.\n",
    "\n",
    "\n",
    "Los detalles de instalación están disponibles en https://docs.docker.com/toolbox/overview/"
   ]
  },
  {
   "cell_type": "markdown",
   "metadata": {},
   "source": [
    "## Instalación de *Docker CE* en CentOS.\n",
    "\n",
    "El sitio de descargas de *Docker CE* ofrece paquetes de instalación para diversas plataformas. \n",
    "\n",
    "En el caso de CentOS es posible utilizar el repositorio de Docker para instalar la herramienta."
   ]
  },
  {
   "cell_type": "markdown",
   "metadata": {},
   "source": [
    "* Es necesario instalar algunas dependencias previas."
   ]
  },
  {
   "cell_type": "code",
   "execution_count": null,
   "metadata": {},
   "outputs": [],
   "source": [
    "sudo yum install yum-utils device-mapper-persistent-data lvm2 -y"
   ]
  },
  {
   "cell_type": "markdown",
   "metadata": {},
   "source": [
    "* Se debe de dar de alta al repositorio."
   ]
  },
  {
   "cell_type": "code",
   "execution_count": null,
   "metadata": {
    "scrolled": false
   },
   "outputs": [],
   "source": [
    "sudo yum-config-manager --add-repo https://download.docker.com/linux/centos/docker-ce.repo"
   ]
  },
  {
   "cell_type": "code",
   "execution_count": null,
   "metadata": {},
   "outputs": [],
   "source": [
    "sudo yum update -y"
   ]
  },
  {
   "cell_type": "markdown",
   "metadata": {},
   "source": [
    "* Se instalará el software."
   ]
  },
  {
   "cell_type": "code",
   "execution_count": null,
   "metadata": {
    "scrolled": true
   },
   "outputs": [],
   "source": [
    "sudo yum install docker-ce -y"
   ]
  },
  {
   "cell_type": "code",
   "execution_count": null,
   "metadata": {
    "scrolled": true
   },
   "outputs": [],
   "source": [
    "docker -v"
   ]
  },
  {
   "cell_type": "markdown",
   "metadata": {},
   "source": [
    "* Se iniciará y habilitará el servicio."
   ]
  },
  {
   "cell_type": "code",
   "execution_count": null,
   "metadata": {},
   "outputs": [],
   "source": [
    "sudo systemctl enable docker\n",
    "sudo systemctl start docker\n",
    "sudo systemctl status docker"
   ]
  },
  {
   "cell_type": "markdown",
   "metadata": {},
   "source": [
    "## *Docker Hub*."
   ]
  },
  {
   "cell_type": "markdown",
   "metadata": {},
   "source": [
    "Docker basa su funcionalidad en el uso de \"imágenes\" de contenedores creadas previamente, las cuales son accedidas desde un repositorio. Dicho repositorio es conocido como *Docker Hub* y está localizado en https://hub.docker.com.\n",
    "\n",
    "Es posible explorar la biblioteca de imágenes desde https://hub.docker.com/explore."
   ]
  },
  {
   "cell_type": "markdown",
   "metadata": {},
   "source": [
    "## Ejecución de comandos de Docker.\n",
    "\n",
    "El comando ```docker``` permite acceder a funciones de ejecución y gestión de contendores desde una terminal con uin sintaxis como:\n",
    "\n",
    "```docker <subcomando>``` "
   ]
  },
  {
   "cell_type": "markdown",
   "metadata": {},
   "source": [
    "## Ejecución de un contenedor.\n",
    "\n",
    "Para acceder y ejecutar un contenedor sólo es necesario utilizar el siguiente comando con el nombre de la imagen que se desea ejecutar.\n",
    "\n",
    "```docker run  <argumentos> <nombre> <comando>```\n",
    "\n",
    "* Docker buscará la imagen, la descargará y la ejecutará.\n",
    "* Tan pronto como el contenedor termine la ejecución del contenedor, éste será terminado, pero no destruido.\n",
    "\n",
    "Los argumentos de ejecución de un contenedor permiten definir nuchas características de éste, tales como el uso de recursos, conexiones y la interacción con el usuario.\n",
    "\n",
    "**NOTA:** Es necesario que el usuario tenga los permisos suficientes para ejecutar el comando."
   ]
  },
  {
   "cell_type": "code",
   "execution_count": null,
   "metadata": {},
   "outputs": [],
   "source": [
    "docker run --help"
   ]
  },
  {
   "cell_type": "markdown",
   "metadata": {},
   "source": [
    "**Ejemplo:**\n",
    "\n",
    "Se ejecutará la imagen https://hub.docker.com/_/hello-world/"
   ]
  },
  {
   "cell_type": "code",
   "execution_count": null,
   "metadata": {
    "scrolled": false
   },
   "outputs": [],
   "source": [
    "sudo docker run hello-world"
   ]
  },
  {
   "cell_type": "markdown",
   "metadata": {},
   "source": [
    "### Acceso a un contenedor mediante la CLI.\n",
    "\n",
    "Para poder acceder a un contenedor mediante un emulador de terminal se utilizan los parámetros:\n",
    "\n",
    "* ```-i```, el cual permite al usuario interactuar con un contenedor en ejecución.\n",
    "* ```-t```, el cual permite conectarse a un conetendor nediante una terminal.\n",
    "\n",
    "La sintaxis es la siguiente:\n",
    "\n",
    "```docker run -it <nombre> <entorno de shell>```\n",
    "\n",
    "El entorno de shell más comunmente utilizado es ```/bin/bash```.\n",
    "\n",
    "El acceso al contenedor siempre será como ```root```."
   ]
  },
  {
   "cell_type": "markdown",
   "metadata": {},
   "source": [
    "**Ejemplo:**\n",
    "\n",
    "Ejecute el siguiente comando desde una terminal para acceder a un contenedor de ubuntu.\n",
    "\n",
    "```\n",
    "sudo docker run -it ubuntu /bin/bash\n",
    "```\n",
    "\n",
    "Para salir del contenedor teclee ```exit```."
   ]
  },
  {
   "cell_type": "markdown",
   "metadata": {},
   "source": [
    "## Consulta sobre los contenedores en ejecución.\n",
    "\n",
    "Es posible hacer consultas sobre el estado de los contenedores del sistema local mediante:\n",
    "\n",
    "```docker ps```"
   ]
  },
  {
   "cell_type": "markdown",
   "metadata": {},
   "source": [
    "Al usar ```docker ps``` sin argumentos, el comando nos regresará el listado de contenedores en ejecución.\n",
    "\n",
    "Los nombres de los contenedores son asignados automáticamente por Docker."
   ]
  },
  {
   "cell_type": "markdown",
   "metadata": {},
   "source": [
    "**Ejemplo:** \n",
    "\n",
    "La siguiente celda desplegará el listado de contenedores en ejecución. \n",
    "Si no ha cerrado el contenedor del ejemplo previo, este será enlistado."
   ]
  },
  {
   "cell_type": "code",
   "execution_count": null,
   "metadata": {},
   "outputs": [],
   "source": [
    "sudo docker ps"
   ]
  },
  {
   "cell_type": "markdown",
   "metadata": {},
   "source": [
    "Al usar ```docker ps -a ``` el comando nos regresará el listado de contenedores que hayan sido ejecutados."
   ]
  },
  {
   "cell_type": "markdown",
   "metadata": {},
   "source": [
    "**Ejemplo:**\n",
    "\n",
    "La siguiente celda desplegará el listado de todos los conrtenedores que se hayan ejecutado."
   ]
  },
  {
   "cell_type": "code",
   "execution_count": null,
   "metadata": {},
   "outputs": [],
   "source": [
    "sudo docker ps -a"
   ]
  },
  {
   "cell_type": "markdown",
   "metadata": {},
   "source": [
    "### Ejecución de un contendor en trasfondo.\n",
    "\n",
    "El parámetro ```-d``` ejecutará un contenedor desligado a una terminal."
   ]
  },
  {
   "cell_type": "markdown",
   "metadata": {},
   "source": [
    "**Ejemplo:**\n",
    "\n",
    "* Se ejecutará un contenedor de ```ubuntu``` en trasfondo, el cual estará ctivo durante 100 segundos utilziando el comando ```sleep```."
   ]
  },
  {
   "cell_type": "code",
   "execution_count": null,
   "metadata": {},
   "outputs": [],
   "source": [
    "sudo docker run -d ubuntu sleep 100"
   ]
  },
  {
   "cell_type": "markdown",
   "metadata": {},
   "source": [
    "Si se ejecuta la siguiente celda dentro de los 100 segundos posteriores a la ejecución de la celda previa, el comando ```docker ps``` enlistará al contendor."
   ]
  },
  {
   "cell_type": "code",
   "execution_count": null,
   "metadata": {},
   "outputs": [],
   "source": [
    "sudo docker ps"
   ]
  },
  {
   "cell_type": "markdown",
   "metadata": {},
   "source": [
    "### Asignación de un nombre a un contenedor.\n",
    "\n",
    "Para asignarle un nombre a un contenedor se su uitliza el parámetro ```--name``` seguido del nombre que se le desea asignar. \n",
    "\n",
    "```docker run --name <nombre del contendor> <argumentos> <nombre de la imagen> <comando>```"
   ]
  },
  {
   "cell_type": "markdown",
   "metadata": {},
   "source": [
    "### Recuperación de un contenedor ejecutándose en trasfondo.\n",
    "\n",
    "Para retomar a un contendor que se está ejecutando en trasfondo se tuliza el comando:\n",
    "\n",
    "```docker attach <identificador>```"
   ]
  },
  {
   "cell_type": "markdown",
   "metadata": {},
   "source": [
    "**Ejemplo:**\n",
    "\n",
    "La siguiente celda ejecutará un contenedor de Ubuntu utilizando los parámetros ```-dit``` y se le asignará el nombre ```Prueba```."
   ]
  },
  {
   "cell_type": "code",
   "execution_count": null,
   "metadata": {},
   "outputs": [],
   "source": [
    "sudo docker run -idt --name Prueba ubuntu /bin/bash"
   ]
  },
  {
   "cell_type": "code",
   "execution_count": null,
   "metadata": {},
   "outputs": [],
   "source": [
    "sudo docker ps"
   ]
  },
  {
   "cell_type": "markdown",
   "metadata": {},
   "source": [
    "Para acceder a este contenedor utilice el siguiente comando desde una terminal:\n",
    "\n",
    "```sudo docker attach Prueba``` \n",
    "\n",
    "Para salir del contenedor use ```exit```."
   ]
  },
  {
   "cell_type": "markdown",
   "metadata": {},
   "source": [
    " ### Detención de un contenedor en ejecución."
   ]
  },
  {
   "cell_type": "markdown",
   "metadata": {},
   "source": [
    "Para detener un contenedor utilice el comando:\n",
    "\n",
    "```docker stop <identificador>```"
   ]
  },
  {
   "cell_type": "markdown",
   "metadata": {},
   "source": [
    "**Ejemplo:**\n",
    "\n",
    "Se detendrá el contenedor llamado ```Prueba``` el cual fue ejecutado previamante."
   ]
  },
  {
   "cell_type": "code",
   "execution_count": null,
   "metadata": {},
   "outputs": [],
   "source": [
    "sudo docker stop Prueba"
   ]
  },
  {
   "cell_type": "markdown",
   "metadata": {},
   "source": [
    "### Eliminación de un contenedor.\n",
    "\n",
    "Para eliminar uno o varios contenedor existentes se puede utilizar el comando:\n",
    "\n",
    "```docker rm <identificadores>```\n",
    "En donde el identificador puede ser el número de ID o el nombre del contenedor."
   ]
  },
  {
   "cell_type": "markdown",
   "metadata": {},
   "source": [
    "**Ejemplo:**\n",
    "\n",
    "Se eliminará el contenedor llamado ```Prueba````."
   ]
  },
  {
   "cell_type": "code",
   "execution_count": null,
   "metadata": {},
   "outputs": [],
   "source": [
    "sudo docker rm Prueba"
   ]
  },
  {
   "cell_type": "markdown",
   "metadata": {},
   "source": [
    "## Gestión de imágenes."
   ]
  },
  {
   "cell_type": "markdown",
   "metadata": {},
   "source": [
    "### Listado de imágenes almacenadas localmente.\n",
    "\n",
    "Para enlistar las imágenes de Docker almacenadas de un sistema local se utiliza: \n",
    "\n",
    "```docker images```"
   ]
  },
  {
   "cell_type": "code",
   "execution_count": null,
   "metadata": {
    "scrolled": true
   },
   "outputs": [],
   "source": [
    "sudo docker images"
   ]
  },
  {
   "cell_type": "markdown",
   "metadata": {},
   "source": [
    "### Eliminación de una imagen.\n",
    "\n",
    "Para enlistar las imágenes de Docker almacenadas de un sistema local se utiliza:\n",
    "\n",
    "```docker rmi <nombre de la imagen>```\n",
    "\n",
    "**Nota:** No debe de existir ningún contenedor instanciado de la imagen a eliminar.\n"
   ]
  },
  {
   "cell_type": "code",
   "execution_count": null,
   "metadata": {},
   "outputs": [],
   "source": [
    "sudo docker rmi ubuntu"
   ]
  },
  {
   "cell_type": "markdown",
   "metadata": {},
   "source": [
    "### Búsqueda de imágenes a partir de un término en DockerHub."
   ]
  },
  {
   "cell_type": "code",
   "execution_count": null,
   "metadata": {},
   "outputs": [],
   "source": [
    "sudo docker search jupyter"
   ]
  },
  {
   "cell_type": "markdown",
   "metadata": {},
   "source": [
    "## El archivo ```Dockerfile```.\n",
    "\n",
    "Docker nos permite crear nuestros propios contenedores mediante el uso de un archivo de configuración llamado ``Dockerfile``. Este archivo es una especie de script, el cual permite crear un contenedor a partir de otro y relizar diversas operaciones con este."
   ]
  },
  {
   "cell_type": "markdown",
   "metadata": {},
   "source": [
    "### Comandos de Dockerfile:\n",
    "\n",
    "* ```FROM``` Es el comando que importa la imagen base a partir de la cual se creará la nueva imagen.\n",
    "* ```USER``` Define la UISD del usuario que será utilizado.\n",
    "* ```VOLUME``` Liga a un directorio local con el contenedor.\n",
    "* ```RUN``` La cual ejecuta diversos comandos al mom,ento de la creación de la imagen.\n",
    "* ```ADD``` Copia un archivo del sistema de archivos local al sistema de archivos de la imagen.\n",
    "* ```ENV``` Define variables de entorno.\n",
    "* ```CMD```Ejecuta comandos al momento de crear un nuevo contendor a partir de la imagen.\n",
    "* ```ENTRYPOINT``` Define el comando que se utilizará por defecto al ejecutar un contenedor instanciado de la imagen.\n",
    "* ```WORKDIR``` \n",
    "* ```EXPOSE``` define el reenvío de puertos.\n",
    "\n"
   ]
  },
  {
   "cell_type": "markdown",
   "metadata": {},
   "source": [
    "## Construcción de una imagen a partir de un archivo ```Dockerfile```.\n",
    "\n",
    "Para crear una imagen se utiliza el comando ```docker build`` de la siguiente forma:\n",
    "\n",
    "```docker build -t <nombre de la imagen> <directorio de la Dockerfile>```"
   ]
  },
  {
   "cell_type": "code",
   "execution_count": null,
   "metadata": {},
   "outputs": [],
   "source": [
    "sudo docker build --help"
   ]
  },
  {
   "cell_type": "markdown",
   "metadata": {},
   "source": [
    "**Ejemplo:**\n",
    "\n",
    "* El archivo localizado en [src/Dockerfile](src/Dockerfile) contiene lo siguiente:\n",
    "\n",
    "``` bash\n",
    "#Descarga la imagen\n",
    "FROM ubuntu:16.04\n",
    " \n",
    "# Actualzia el sistema\n",
    "RUN apt-get update\n",
    " \n",
    "# Instala nginx, php-fpm y supervisord\n",
    "RUN apt-get install -y nginx php7.0-fpm supervisor && \\\n",
    "    rm -rf /var/lib/apt/lists/*\n",
    " \n",
    "#Define las variables de entorno\n",
    "ENV nginx_vhost /etc/nginx/sites-available/default\n",
    "ENV php_conf /etc/php/7.0/fpm/php.ini\n",
    "ENV nginx_conf /etc/nginx/nginx.conf\n",
    "ENV supervisor_conf /etc/supervisor/supervisord.conf\n",
    " \n",
    "# habilita la configuración del servidor virtual de php-fpm en nginx\n",
    "COPY default ${nginx_vhost}\n",
    "RUN sed -i -e 's/;cgi.fix_pathinfo=1/cgi.fix_pathinfo=0/g' ${php_conf} && \\\n",
    "    echo \"\\ndaemon off;\" >> ${nginx_conf}\n",
    " \n",
    "#Copia la configuración del supervisor\n",
    "COPY supervisord.conf ${supervisor_conf}\n",
    " \n",
    "RUN mkdir -p /run/php && \\\n",
    "    chown -R www-data:www-data /var/www/html && \\\n",
    "    chown -R www-data:www-data /run/php\n",
    " \n",
    "# Configura el volumen de almacenamiento\n",
    "VOLUME [\"/etc/nginx/sites-enabled\", \"/etc/nginx/certs\", \"/etc/nginx/conf.d\", \"/var/log/nginx\", \"/var/www/html\"]\n",
    " \n",
    "# Configura los servicios y los puertos \n",
    "COPY start.sh /start.sh\n",
    "CMD [\"./start.sh\"]\n",
    " \n",
    "EXPOSE 80 443\n",
    "```\n",
    "\n",
    "* El archivo [src/default]([src/default) contiene la configuración de nginx:\n",
    "\n",
    "```\n",
    "server {\n",
    "    listen 80 default_server;\n",
    "    listen [::]:80 default_server;\n",
    " \n",
    "    root /var/www/html;\n",
    "    index index.html index.htm index.nginx-debian.html;\n",
    " \n",
    "    server_name _;\n",
    " \n",
    "    location / {\n",
    "        try_files $uri $uri/ =404;\n",
    "    }\n",
    " \n",
    "    location ~ \\.php$ {\n",
    "        include snippets/fastcgi-php.conf;\n",
    "        fastcgi_pass unix:/run/php/php7.0-fpm.sock;\n",
    "    }\n",
    " \n",
    "    # deny access to .htaccess files, if Apache's document root\n",
    "    # concurs with nginx's one\n",
    "    #\n",
    "    #location ~ /\\.ht {\n",
    "    #    deny all;\n",
    "    #}\n",
    "}\n",
    "```\n",
    "\n",
    "* El archivo [src/supervisord](src/supervisord) contiene lo siguiente:\n",
    "\n",
    "```\n",
    "[unix_http_server]\n",
    "file=/dev/shm/supervisor.sock   ; (the path to the socket file)\n",
    " \n",
    "[supervisord]\n",
    "logfile=/var/log/supervisord.log ; (main log file;default $CWD/supervisord.log)\n",
    "logfile_maxbytes=50MB        ; (max main logfile bytes b4 rotation;default 50MB)\n",
    "logfile_backups=10           ; (num of main logfile rotation backups;default 10)\n",
    "loglevel=info                ; (log level;default info; others: debug,warn,trace)\n",
    "pidfile=/tmp/supervisord.pid ; (supervisord pidfile;default supervisord.pid)\n",
    "nodaemon=false               ; (start in foreground if true;default false)\n",
    "minfds=1024                  ; (min. avail startup file descriptors;default 1024)\n",
    "minprocs=200                 ; (min. avail process descriptors;default 200)\n",
    "user=root             ;\n",
    " \n",
    "; the below section must remain in the config file for RPC\n",
    "; (supervisorctl/web interface) to work, additional interfaces may be\n",
    "; added by defining them in separate rpcinterface: sections\n",
    "[rpcinterface:supervisor]\n",
    "supervisor.rpcinterface_factory = supervisor.rpcinterface:make_main_rpcinterface\n",
    " \n",
    "[supervisorctl]\n",
    "serverurl=unix:///dev/shm/supervisor.sock ; use a unix:// URL  for a unix socket\n",
    " \n",
    "; The [include] section can just contain the \"files\" setting.  This\n",
    "; setting can list multiple files (separated by whitespace or\n",
    "; newlines).  It can also contain wildcards.  The filenames are\n",
    "; interpreted as relative to this file.  Included files *cannot*\n",
    "; include files themselves.\n",
    " \n",
    "[include]\n",
    "files = /etc/supervisor/conf.d/*.conf\n",
    " \n",
    " \n",
    "[program:php-fpm7.0]\n",
    "command=/usr/sbin/php-fpm7.0 -F\n",
    "numprocs=1\n",
    "autostart=true\n",
    "autorestart=true\n",
    " \n",
    "[program:nginx]\n",
    "command=/usr/sbin/nginx\n",
    "numprocs=1\n",
    "autostart=true\n",
    "autorestart=true\n",
    "```\n",
    "\n",
    "* El archivo [src/start.sh](src/supervisord) tiene permisos de ejecución y contiene lo siguiente:\n",
    "\n",
    "```\n",
    "#!/bin/sh\n",
    " \n",
    "/usr/bin/supervisord -n -c /etc/supervisor/supervisord.conf\n",
    "```"
   ]
  },
  {
   "cell_type": "markdown",
   "metadata": {},
   "source": [
    "A continuación se creará una imagen que será ejecutada con el nombre ```servidor```."
   ]
  },
  {
   "cell_type": "code",
   "execution_count": null,
   "metadata": {},
   "outputs": [],
   "source": [
    "cd src"
   ]
  },
  {
   "cell_type": "code",
   "execution_count": null,
   "metadata": {},
   "outputs": [],
   "source": [
    "sudo docker build -t nginx_image ."
   ]
  },
  {
   "cell_type": "code",
   "execution_count": null,
   "metadata": {
    "scrolled": true
   },
   "outputs": [],
   "source": [
    "sudo docker images"
   ]
  },
  {
   "cell_type": "markdown",
   "metadata": {},
   "source": [
    "Si se está tulizando esta notebook desde la VM de Cloudevel®, es necesario detener el servidor Apache."
   ]
  },
  {
   "cell_type": "code",
   "execution_count": null,
   "metadata": {},
   "outputs": [],
   "source": [
    "sudo systemctl stop httpd"
   ]
  },
  {
   "cell_type": "code",
   "execution_count": null,
   "metadata": {},
   "outputs": [],
   "source": [
    "mkdir webroot"
   ]
  },
  {
   "cell_type": "code",
   "execution_count": null,
   "metadata": {
    "scrolled": true
   },
   "outputs": [],
   "source": [
    "sudo docker run -d -v webroot:/var/www/html -p 80:80 --name servidor nginx_image"
   ]
  },
  {
   "cell_type": "code",
   "execution_count": null,
   "metadata": {},
   "outputs": [],
   "source": [
    "sudo docker ps"
   ]
  },
  {
   "cell_type": "markdown",
   "metadata": {},
   "source": [
    "<p style=\"text-align: center\"><a rel=\"license\" href=\"http://creativecommons.org/licenses/by/4.0/\"><img alt=\"Licencia Creative Commons\" style=\"border-width:0\" src=\"https://i.creativecommons.org/l/by/4.0/80x15.png\" /></a><br />Esta obra está bajo una <a rel=\"license\" href=\"http://creativecommons.org/licenses/by/4.0/\">Licencia Creative Commons Atribución 4.0 Internacional</a>.</p>\n",
    "<p style=\"text-align: center\">&copy; José Luis Chiquete Valdivieso. 2018.</p>"
   ]
  }
 ],
 "metadata": {
  "kernelspec": {
   "display_name": "Bash",
   "language": "bash",
   "name": "bash"
  },
  "language_info": {
   "codemirror_mode": "shell",
   "file_extension": ".sh",
   "mimetype": "text/x-sh",
   "name": "bash"
  }
 },
 "nbformat": 4,
 "nbformat_minor": 2
}
