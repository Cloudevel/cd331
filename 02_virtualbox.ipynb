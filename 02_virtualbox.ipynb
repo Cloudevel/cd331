{
 "cells": [
  {
   "cell_type": "markdown",
   "metadata": {},
   "source": [
    "![cloudevel](imagenes/cloudevel-fondo-twitter.png)"
   ]
  },
  {
   "cell_type": "markdown",
   "metadata": {},
   "source": [
    "## Virtualbox.\n",
    "\n",
    "[Virtualbox](https://www.virtualbox.org/) es una herramienta de virtualización multi-plataforma de Oracle que incluye los siguientes elementos:\n",
    "\n",
    "* *Hipervisor*, el cual puede aprovechar la virtualización por hawrdware en caso de que el huesped la soporte.\n",
    "* *Gestor de máquinas virtuales*,  el cual permite administrar varias máquinas virtuales así como los recursos a (procesamiento, memoria, redes virtuales, almacenamiento, etc.\n",
    "* *Interfaz de línea de comandos (CLI).\n",
    "\n",
    "Para mayor información es posible consultar la [documentación de Virtualbox](https://www.virtualbox.org/wiki/Documentation)."
   ]
  },
  {
   "cell_type": "markdown",
   "metadata": {},
   "source": [
    "## Los accesorios para huéspedes de Virtualbox.\n",
    "\n",
    "Virtualbox permite extender la interacción entre el huesped y el anfitrión mediante una serie de herramientas que permiten entre otras cosas:\n",
    "\n",
    "* Compartir directorios del huesped como volúmenes.\n",
    "* Ajustar el entorno gráfico del huesped.\n",
    "\n",
    "La documentación de instalación puede ser consultada en https://docs.oracle.com/cd/E36500_01/E36502/html/qs-guest-additions.html"
   ]
  },
  {
   "cell_type": "markdown",
   "metadata": {},
   "source": [
    "## Las extensiones de Virtualbox.\n",
    "\n",
    "Son un conjunto de componentes para el anfitrión que permiten una mator integración del hardware del anfitrión.\n"
   ]
  },
  {
   "cell_type": "markdown",
   "metadata": {},
   "source": [
    "## Uso de Virtualbox.\n",
    "\n",
    "Para fines de este taller se explorarán algunas funcionaidades de Virtualbox de forma práctica desde el gestor.\n",
    "\n",
    "* Creación de una VM.\n",
    "  * Asignación de recursos.\n",
    "  * Instalación.\n",
    "* Configuración de redes.\n",
    "    * Conexión NAT.\n",
    "    * Adaptador puente.\n",
    "    * Red NAT.\n",
    "    * Red sólo anfitrión.\n",
    "    * Red interna.\n",
    "* Compartir almacenamiento.\n",
    "* Importación y exportación de imágenes de VM.\n"
   ]
  },
  {
   "cell_type": "markdown",
   "metadata": {},
   "source": [
    "<p style=\"text-align: center\"><a rel=\"license\" href=\"http://creativecommons.org/licenses/by/4.0/\"><img alt=\"Licencia Creative Commons\" style=\"border-width:0\" src=\"https://i.creativecommons.org/l/by/4.0/80x15.png\" /></a><br />Esta obra está bajo una <a rel=\"license\" href=\"http://creativecommons.org/licenses/by/4.0/\">Licencia Creative Commons Atribución 4.0 Internacional</a>.</p>\n",
    "<p style=\"text-align: center\">&copy; José Luis Chiquete Valdivieso. 2018.</p>"
   ]
  }
 ],
 "metadata": {
  "kernelspec": {
   "display_name": "Bash",
   "language": "bash",
   "name": "bash"
  },
  "language_info": {
   "codemirror_mode": "shell",
   "file_extension": ".sh",
   "mimetype": "text/x-sh",
   "name": "bash"
  }
 },
 "nbformat": 4,
 "nbformat_minor": 2
}
