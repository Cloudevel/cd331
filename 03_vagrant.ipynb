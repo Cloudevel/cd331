{
 "cells": [
  {
   "cell_type": "markdown",
   "metadata": {},
   "source": [
    "![cloudevel](imagenes/cloudevel-fondo-twitter.png)"
   ]
  },
  {
   "cell_type": "markdown",
   "metadata": {},
   "source": [
    "### Advertencia:\n",
    "\n",
    "* En vista de que Virtualbox no permite la virtualización anidada, no podrán ser ejecutadas por completo todas las celdas de esta notebook desde la VM proporcionada en el sitio de Cloudevel®. \n",
    "\n",
    "* Para poder ejecutar las siguientes celdas es necesario contar con un servidor [Jupyter](https://jupyter.org/) que incluya [el kernel de bash](https://github.com/takluyver/bash_kernel) desde una máquina con capacidad de virtualización."
   ]
  },
  {
   "cell_type": "markdown",
   "metadata": {},
   "source": [
    "## El proyecto Vargant."
   ]
  },
  {
   "cell_type": "markdown",
   "metadata": {},
   "source": [
    "[Vargant](https://www.vagrantup.com/) es un proyecto de la empresa [Hashicorp](https://www.hashicorp.com/) enfocado a proveer máquinas virtuales hechas a la medida del usuario a partir de imágenes pre-establecidas llamadas 'cajas' ('boxes'), las cuales pueden ser configuradas a voluntad."
   ]
  },
  {
   "cell_type": "markdown",
   "metadata": {},
   "source": [
    "## Las cajas de Vagrant.\n",
    "\n",
    "Una caja es una imagen de un sistema operartivo virtualizado que incluye al usuario ```vagrant``` el cual posee credenciales para ejecutar el comando ```sudo``` sin necesidad de contraseña. La contraseña de dicho usuario también es  ```vagrant```.\n",
    "\n",
    "### Repositorios de cajas.\n",
    "\n",
    "Aún cuando una organización puede contar con su aservo propio de cajas, el proyecto cuenta con un repositorio de cajas localizado en https://app.vagrantup.com/boxes/search el cual puede ser accedido por defecto. \n",
    "\n",
    "En un principio, las cajas sólo eran compatibles con Virtualbox, pero actualmente existen cajas para diversos hipervisores ('providers')."
   ]
  },
  {
   "cell_type": "markdown",
   "metadata": {},
   "source": [
    "## Instalación de Vagrant en CentOS 7.\n",
    "\n",
    "Los paquetes de instalación de Vagrant están disponibles para varios sistemas operativos en https://www.vagrantup.com/downloads.html\n",
    "\n",
    "En el momento de escribir este documento, la versión más reciente de Vagrant es la 2.1.1.\n",
    "\n",
    "La siguiente celda instalará Vagrant en un sistema basado en paquetes RPM."
   ]
  },
  {
   "cell_type": "code",
   "execution_count": null,
   "metadata": {
    "scrolled": true
   },
   "outputs": [],
   "source": [
    "sudo yum install https://releases.hashicorp.com/vagrant/2.1.1/vagrant_2.1.1_x86_64.rpm -y"
   ]
  },
  {
   "cell_type": "markdown",
   "metadata": {},
   "source": [
    "## Ejecución de Vagrant.\n",
    "\n",
    "Vagrant se ejecuta desde una terminal con el comando ```vagrant``` sucedido por otros subcomandos y argumentos.\n",
    "\n",
    "```\n",
    "vagrant <subcomando> <subcomando> <argumentos>\n",
    "```\n",
    "\n",
    "Los comandos de vagrant pueden ser consultados en https://www.vagrantup.com/docs/cli/"
   ]
  },
  {
   "cell_type": "markdown",
   "metadata": {},
   "source": [
    "### Estructura de subdirectorios de las VM de Vagrant.\n",
    "\n",
    "Vagrant crea una configuración para una o varias VM mediante un archivo llamado ```Vagrantfile```. Cada directorio que contenga un archivo con este nombre corresponde al entorno de una o varias VM.\n",
    "\n",
    "**Nota:** para fines de este curso, sólo se crearán entornos con una sola VM, pero puede consultar la configuración de múlktiples VM en https://www.vagrantup.com/docs/multi-machine/."
   ]
  },
  {
   "cell_type": "markdown",
   "metadata": {},
   "source": [
    "### Inicialización de una VM con Vagrant.\n",
    "\n",
    "Para inicializar una VM es necesario colocarse en el subdirectorio que la contendrá y ejecutar el subcomando ```init``` del siguiente modo.\n",
    "\n",
    "``` vagrant init <localización de la caja>```\n",
    "\n",
    "* La caja puede corresponder a la URL de una caja o al nombre de una caja en el repositorio de Vagrant localizado en https://app.vagrantup.com/boxes/search.\n",
    "* Si no se indica la localización de una caja, Vagrant creará un archivo ```Vagrantfile``` con valores que deberán ser llenados por el usuario."
   ]
  },
  {
   "cell_type": "markdown",
   "metadata": {},
   "source": [
    "**Ejemplo:**\n",
    "\n",
    "Se creará el subdirectorio ```prueba``` en el que se inicializará con una configuración en blanco."
   ]
  },
  {
   "cell_type": "code",
   "execution_count": 1,
   "metadata": {},
   "outputs": [],
   "source": [
    "mkdir prueba"
   ]
  },
  {
   "cell_type": "code",
   "execution_count": 2,
   "metadata": {},
   "outputs": [],
   "source": [
    "cd prueba"
   ]
  },
  {
   "cell_type": "code",
   "execution_count": 3,
   "metadata": {},
   "outputs": [
    {
     "name": "stdout",
     "output_type": "stream",
     "text": [
      "\u001b[0mA `Vagrantfile` has been placed in this directory. You are now\n",
      "ready to `vagrant up` your first virtual environment! Please read\n",
      "the comments in the Vagrantfile as well as documentation on\n",
      "`vagrantup.com` for more information on using Vagrant.\u001b[0m\n"
     ]
    }
   ],
   "source": [
    "vagrant init"
   ]
  },
  {
   "cell_type": "markdown",
   "metadata": {},
   "source": [
    "El contenido del archivo ```Vagrantfile``` puede ser consultado ejecutando la siguiente celda.\n",
    "\n",
    "Esta configuración incluye:\n",
    "* La caja a partir de la cual se creará una o varias la VM.\n",
    "* El hipervisor (provider) desde el que se ejecutará la VM.\n",
    "* Los recursos de cómputo y memoria que consumirá la VM.\n",
    "* La configuración de la red ibncluyendo el tipo de red y el reenvío de puertos.\n",
    "* Los scripts de configuración de la VM.\n",
    "\n",
    "En caso de que no se indique, el nommbre por defecto de una VM es ```default```."
   ]
  },
  {
   "cell_type": "code",
   "execution_count": 4,
   "metadata": {
    "scrolled": true
   },
   "outputs": [
    {
     "name": "stdout",
     "output_type": "stream",
     "text": [
      "# -*- mode: ruby -*-\n",
      "# vi: set ft=ruby :\n",
      "\n",
      "# All Vagrant configuration is done below. The \"2\" in Vagrant.configure\n",
      "# configures the configuration version (we support older styles for\n",
      "# backwards compatibility). Please don't change it unless you know what\n",
      "# you're doing.\n",
      "Vagrant.configure(\"2\") do |config|\n",
      "  # The most common configuration options are documented and commented below.\n",
      "  # For a complete reference, please see the online documentation at\n",
      "  # https://docs.vagrantup.com.\n",
      "\n",
      "  # Every Vagrant development environment requires a box. You can search for\n",
      "  # boxes at https://vagrantcloud.com/search.\n",
      "  config.vm.box = \"base\"\n",
      "\n",
      "  # Disable automatic box update checking. If you disable this, then\n",
      "  # boxes will only be checked for updates when the user runs\n",
      "  # `vagrant box outdated`. This is not recommended.\n",
      "  # config.vm.box_check_update = false\n",
      "\n",
      "  # Create a forwarded port mapping which allows access to a specific port\n",
      "  # within the machine from a port on the host machine. In the example below,\n",
      "  # accessing \"localhost:8080\" will access port 80 on the guest machine.\n",
      "  # NOTE: This will enable public access to the opened port\n",
      "  # config.vm.network \"forwarded_port\", guest: 80, host: 8080\n",
      "\n",
      "  # Create a forwarded port mapping which allows access to a specific port\n",
      "  # within the machine from a port on the host machine and only allow access\n",
      "  # via 127.0.0.1 to disable public access\n",
      "  # config.vm.network \"forwarded_port\", guest: 80, host: 8080, host_ip: \"127.0.0.1\"\n",
      "\n",
      "  # Create a private network, which allows host-only access to the machine\n",
      "  # using a specific IP.\n",
      "  # config.vm.network \"private_network\", ip: \"192.168.33.10\"\n",
      "\n",
      "  # Create a public network, which generally matched to bridged network.\n",
      "  # Bridged networks make the machine appear as another physical device on\n",
      "  # your network.\n",
      "  # config.vm.network \"public_network\"\n",
      "\n",
      "  # Share an additional folder to the guest VM. The first argument is\n",
      "  # the path on the host to the actual folder. The second argument is\n",
      "  # the path on the guest to mount the folder. And the optional third\n",
      "  # argument is a set of non-required options.\n",
      "  # config.vm.synced_folder \"../data\", \"/vagrant_data\"\n",
      "\n",
      "  # Provider-specific configuration so you can fine-tune various\n",
      "  # backing providers for Vagrant. These expose provider-specific options.\n",
      "  # Example for VirtualBox:\n",
      "  #\n",
      "  # config.vm.provider \"virtualbox\" do |vb|\n",
      "  #   # Display the VirtualBox GUI when booting the machine\n",
      "  #   vb.gui = true\n",
      "  #\n",
      "  #   # Customize the amount of memory on the VM:\n",
      "  #   vb.memory = \"1024\"\n",
      "  # end\n",
      "  #\n",
      "  # View the documentation for the provider you are using for more\n",
      "  # information on available options.\n",
      "\n",
      "  # Enable provisioning with a shell script. Additional provisioners such as\n",
      "  # Puppet, Chef, Ansible, Salt, and Docker are also available. Please see the\n",
      "  # documentation for more information about their specific syntax and use.\n",
      "  # config.vm.provision \"shell\", inline: <<-SHELL\n",
      "  #   apt-get update\n",
      "  #   apt-get install -y apache2\n",
      "  # SHELL\n",
      "end\n"
     ]
    }
   ],
   "source": [
    "cat Vagrantfile"
   ]
  },
  {
   "cell_type": "markdown",
   "metadata": {},
   "source": [
    "** Ejemplo:**\n",
    "\n",
    "Ahora se creará el directorio ```ubuntu``` con la caja ```ubuntu/trusty64```."
   ]
  },
  {
   "cell_type": "code",
   "execution_count": 5,
   "metadata": {},
   "outputs": [],
   "source": [
    "cd .."
   ]
  },
  {
   "cell_type": "code",
   "execution_count": 6,
   "metadata": {},
   "outputs": [],
   "source": [
    "mkdir ubuntu"
   ]
  },
  {
   "cell_type": "code",
   "execution_count": 7,
   "metadata": {},
   "outputs": [],
   "source": [
    "cd ubuntu"
   ]
  },
  {
   "cell_type": "code",
   "execution_count": 8,
   "metadata": {},
   "outputs": [
    {
     "name": "stdout",
     "output_type": "stream",
     "text": [
      "\u001b[0mA `Vagrantfile` has been placed in this directory. You are now\n",
      "ready to `vagrant up` your first virtual environment! Please read\n",
      "the comments in the Vagrantfile as well as documentation on\n",
      "`vagrantup.com` for more information on using Vagrant.\u001b[0m\n"
     ]
    }
   ],
   "source": [
    "vagrant init ubuntu/trusty64"
   ]
  },
  {
   "cell_type": "code",
   "execution_count": 9,
   "metadata": {},
   "outputs": [
    {
     "name": "stdout",
     "output_type": "stream",
     "text": [
      "# -*- mode: ruby -*-\n",
      "# vi: set ft=ruby :\n",
      "\n",
      "# All Vagrant configuration is done below. The \"2\" in Vagrant.configure\n",
      "# configures the configuration version (we support older styles for\n",
      "# backwards compatibility). Please don't change it unless you know what\n",
      "# you're doing.\n",
      "Vagrant.configure(\"2\") do |config|\n",
      "  # The most common configuration options are documented and commented below.\n",
      "  # For a complete reference, please see the online documentation at\n",
      "  # https://docs.vagrantup.com.\n",
      "\n",
      "  # Every Vagrant development environment requires a box. You can search for\n",
      "  # boxes at https://vagrantcloud.com/search.\n",
      "  config.vm.box = \"ubuntu/trusty64\"\n",
      "\n",
      "  # Disable automatic box update checking. If you disable this, then\n",
      "  # boxes will only be checked for updates when the user runs\n",
      "  # `vagrant box outdated`. This is not recommended.\n",
      "  # config.vm.box_check_update = false\n",
      "\n",
      "  # Create a forwarded port mapping which allows access to a specific port\n",
      "  # within the machine from a port on the host machine. In the example below,\n",
      "  # accessing \"localhost:8080\" will access port 80 on the guest machine.\n",
      "  # NOTE: This will enable public access to the opened port\n",
      "  # config.vm.network \"forwarded_port\", guest: 80, host: 8080\n",
      "\n",
      "  # Create a forwarded port mapping which allows access to a specific port\n",
      "  # within the machine from a port on the host machine and only allow access\n",
      "  # via 127.0.0.1 to disable public access\n",
      "  # config.vm.network \"forwarded_port\", guest: 80, host: 8080, host_ip: \"127.0.0.1\"\n",
      "\n",
      "  # Create a private network, which allows host-only access to the machine\n",
      "  # using a specific IP.\n",
      "  # config.vm.network \"private_network\", ip: \"192.168.33.10\"\n",
      "\n",
      "  # Create a public network, which generally matched to bridged network.\n",
      "  # Bridged networks make the machine appear as another physical device on\n",
      "  # your network.\n",
      "  # config.vm.network \"public_network\"\n",
      "\n",
      "  # Share an additional folder to the guest VM. The first argument is\n",
      "  # the path on the host to the actual folder. The second argument is\n",
      "  # the path on the guest to mount the folder. And the optional third\n",
      "  # argument is a set of non-required options.\n",
      "  # config.vm.synced_folder \"../data\", \"/vagrant_data\"\n",
      "\n",
      "  # Provider-specific configuration so you can fine-tune various\n",
      "  # backing providers for Vagrant. These expose provider-specific options.\n",
      "  # Example for VirtualBox:\n",
      "  #\n",
      "  # config.vm.provider \"virtualbox\" do |vb|\n",
      "  #   # Display the VirtualBox GUI when booting the machine\n",
      "  #   vb.gui = true\n",
      "  #\n",
      "  #   # Customize the amount of memory on the VM:\n",
      "  #   vb.memory = \"1024\"\n",
      "  # end\n",
      "  #\n",
      "  # View the documentation for the provider you are using for more\n",
      "  # information on available options.\n",
      "\n",
      "  # Enable provisioning with a shell script. Additional provisioners such as\n",
      "  # Puppet, Chef, Ansible, Salt, and Docker are also available. Please see the\n",
      "  # documentation for more information about their specific syntax and use.\n",
      "  # config.vm.provision \"shell\", inline: <<-SHELL\n",
      "  #   apt-get update\n",
      "  #   apt-get install -y apache2\n",
      "  # SHELL\n",
      "end\n"
     ]
    }
   ],
   "source": [
    "cat Vagrantfile"
   ]
  },
  {
   "cell_type": "markdown",
   "metadata": {},
   "source": [
    "## Encendido de una VM.\n",
    "\n",
    "Para echar a andar un VM de Vagrant sólo es necesario ejecutar:\n",
    "\n",
    "```vagrant up ```"
   ]
  },
  {
   "cell_type": "markdown",
   "metadata": {},
   "source": [
    "**Ejemplo:**\n",
    "Se ejecutará la VM del subdirectorio ```ubuntu```. Asegúrese de que esté en el directorio correspondiente.\n",
    "\n",
    "Una vez ejecutado el comando, vagrant descargará y configurará la caja correspondiente y echará a andar la VM."
   ]
  },
  {
   "cell_type": "code",
   "execution_count": 10,
   "metadata": {},
   "outputs": [
    {
     "name": "stdout",
     "output_type": "stream",
     "text": [
      "/opt/cloudevel/cd321/ubuntu\n"
     ]
    }
   ],
   "source": [
    "pwd"
   ]
  },
  {
   "cell_type": "markdown",
   "metadata": {},
   "source": [
    "**Advertencia:**\n",
    "La siguiente celda no se ejecutarán adecuadamente si esta notebook está siendo desplegada desde la VM de Cloudevel®."
   ]
  },
  {
   "cell_type": "code",
   "execution_count": 11,
   "metadata": {},
   "outputs": [
    {
     "name": "stdout",
     "output_type": "stream",
     "text": [
      "\u001b[0;31mNo usable default provider could be found for your system.\n",
      "\n",
      "Vagrant relies on interactions with 3rd party systems, known as\n",
      "\"providers\", to provide Vagrant with resources to run development\n",
      "environments. Examples are VirtualBox, VMware, Hyper-V.\n",
      "\n",
      "The easiest solution to this message is to install VirtualBox, which\n",
      "is available for free on all major platforms.\n",
      "\n",
      "If you believe you already have a provider available, make sure it\n",
      "is properly installed and configured. You can see more details about\n",
      "why a particular provider isn't working by forcing usage with\n",
      "`vagrant up --provider=PROVIDER`, which should give you a more specific\n",
      "error message for that particular provider.\u001b[0m\n"
     ]
    },
    {
     "ename": "",
     "evalue": "1",
     "output_type": "error",
     "traceback": []
    }
   ],
   "source": [
    "vagrant up"
   ]
  },
  {
   "cell_type": "markdown",
   "metadata": {},
   "source": [
    "## Acceso a la VM mediante SSH.\n",
    "\n",
    "Al arrancar la VM, Vagrant también creó un par de credenciales SSH para el usuario ```vagrant```, de tal modo que es posible realizar una conexión ssh mediante el siguiente comando sin necesidad de ingresar una contraseña:\n",
    "\n",
    "```vagrant ssh```\n",
    "\n",
    "En este caso deberá de ejecutar este comando desde una terminal localizada en el directorio correspondiente.\n",
    "\n",
    "**Nota:** Para salir de la sesión SSH ejecute el comando ```exit```"
   ]
  },
  {
   "cell_type": "markdown",
   "metadata": {},
   "source": [
    "## Gestión de la VM.\n",
    "\n",
    "Además de ```up```, los siguientes subcomandos de vagrant gestionan el estado de una VM.\n",
    "\n",
    "* ```halt``` detiene a la VM.\n",
    "* ```suspend``` suspende a la VM.\n",
    "* ```resume``` regresa a la VM de su estado de suspensión.\n",
    "* ```reload``` reinicializa una VM y la reconfigura en caso de que el archivo ```Vagrantfile``` haya sido modificado.\n",
    "* ```status``` da un resumen del estado de las VM existentes.\n",
    "* ```destroy``` destruye la VM."
   ]
  },
  {
   "cell_type": "markdown",
   "metadata": {},
   "source": [
    "## Gestión de cajas.\n",
    "\n",
    "Es posible realizar algunas operaciones con las cajas de Vagrant mediante el uso de:\n",
    "\n",
    "```vagrant box <subcomando>```\n",
    "\n",
    "Algunos subcomandos son:\n",
    "\n",
    "* ```add <nombre de la caja>``` para descargar una caja. Se puede utilizar el parámetro ```--provider``` para indicar el hipervisor que se utilizará.\n",
    "* ```remove <nombre de la caja>``` para eliminar una caja existente. \n",
    "* ```list``` para listar las cajas disponibles en el entorno local.\n",
    "* ```update``` para actualizar una caja existente. "
   ]
  },
  {
   "cell_type": "code",
   "execution_count": null,
   "metadata": {},
   "outputs": [],
   "source": [
    "vagrant box add centos/7 --provider virtualbox"
   ]
  },
  {
   "cell_type": "code",
   "execution_count": null,
   "metadata": {},
   "outputs": [],
   "source": [
    "vagrant box list"
   ]
  },
  {
   "cell_type": "code",
   "execution_count": null,
   "metadata": {},
   "outputs": [],
   "source": [
    "vagrant box update"
   ]
  },
  {
   "cell_type": "code",
   "execution_count": null,
   "metadata": {
    "scrolled": false
   },
   "outputs": [],
   "source": [
    "vagrant box remove centos/7"
   ]
  },
  {
   "cell_type": "markdown",
   "metadata": {},
   "source": [
    "## Siguientes pasos."
   ]
  },
  {
   "cell_type": "markdown",
   "metadata": {},
   "source": [
    "En el capítulo 7 de este curso se explorará el uso de scripts para configurar una VM con Vagrant mdiante el instrucciones del shell como con Ansible.\n",
    "\n",
    "Del mismo modo se discutirá el modo de empacar y gestionar una caja propia. "
   ]
  },
  {
   "cell_type": "markdown",
   "metadata": {},
   "source": [
    "### El \"acordeón\" de Vagrant.\n",
    "\n",
    "Puede consultar un muy útil resumen de comandos de vagrant en https://gist.github.com/carlessanagustin/69d65ca1110c146598a9."
   ]
  },
  {
   "cell_type": "markdown",
   "metadata": {},
   "source": [
    "<p style=\"text-align: center\"><a rel=\"license\" href=\"http://creativecommons.org/licenses/by/4.0/\"><img alt=\"Licencia Creative Commons\" style=\"border-width:0\" src=\"https://i.creativecommons.org/l/by/4.0/80x15.png\" /></a><br />Esta obra está bajo una <a rel=\"license\" href=\"http://creativecommons.org/licenses/by/4.0/\">Licencia Creative Commons Atribución 4.0 Internacional</a>.</p>\n",
    "<p style=\"text-align: center\">&copy; José Luis Chiquete Valdivieso. 2018.</p>"
   ]
  }
 ],
 "metadata": {
  "kernelspec": {
   "display_name": "Bash",
   "language": "bash",
   "name": "bash"
  },
  "language_info": {
   "codemirror_mode": "shell",
   "file_extension": ".sh",
   "mimetype": "text/x-sh",
   "name": "bash"
  }
 },
 "nbformat": 4,
 "nbformat_minor": 2
}
