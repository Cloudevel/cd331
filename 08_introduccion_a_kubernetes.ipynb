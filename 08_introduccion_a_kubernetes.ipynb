{
 "cells": [
  {
   "cell_type": "markdown",
   "metadata": {},
   "source": [
    "![cloudevel](imagenes/cloudevel-fondo-twitter.png)"
   ]
  },
  {
   "cell_type": "markdown",
   "metadata": {},
   "source": [
    "## Gestión y orquestación de contenedores.\n",
    "\n",
    "Los contenedores como Docker permiten diseñar sistemas conformados por componentes autónomos, ligeros y modulares.\n",
    "\n",
    "Sin embargo, la gestión y orquestación de diversos contenedores en un sistema requiere de herramientas especializadas.\n",
    "\n",
    "Para lograr tal propósito, la empresa Docker Inc. creó la herramienta de enjambre (swarm) conocida como [Docker Swarm](https://docs.docker.com/engine/swarm/). \n",
    "\n",
    "De forma paralela, Google liberó el proyecto [Kubernetes](https://kubernetes.io/) el cual puede gestionar y orquestar clusters de contenedores, incluso contenedores distintos de Docker.\n",
    "\n",
    "El proyecto Kubernetes ha sido adoptado de forma extendida por diversos proveedores de servicios como AWS, Azure y el propio Google, por lo que ha sido reconocida como la herramienta más recomendada para gestión y orquestación de contenedores."
   ]
  },
  {
   "cell_type": "markdown",
   "metadata": {},
   "source": [
    "## Objetos de Kubernetes"
   ]
  },
  {
   "cell_type": "markdown",
   "metadata": {},
   "source": [
    "### Pods"
   ]
  },
  {
   "cell_type": "markdown",
   "metadata": {},
   "source": [
    "https://github.com/kubernetes/minikube"
   ]
  },
  {
   "cell_type": "markdown",
   "metadata": {},
   "source": [
    "## Creando un cluster local con minikube.\n",
    "\n",
    "\n",
    "El proyecto kubernetes ha liberado también la herramienta llamada minikube, el cual puede ser consultado desde https://github.com/kubernetes/minikube.\n",
    "\n",
    "Dicho proyecto consiste en una VM basada en Virtualbox, la cual puede desplegar un cluster de un sólo nodo. Lo suficiente como para experimentar con Kubernetes. \n",
    "\n"
   ]
  },
  {
   "cell_type": "code",
   "execution_count": null,
   "metadata": {},
   "outputs": [],
   "source": [
    "sudo cp src/kubernetes.repo /etc/yum.repos.d/"
   ]
  },
  {
   "cell_type": "code",
   "execution_count": null,
   "metadata": {},
   "outputs": [],
   "source": [
    "sudo yum update -y"
   ]
  },
  {
   "cell_type": "code",
   "execution_count": null,
   "metadata": {},
   "outputs": [],
   "source": [
    "sudo yum install kubectl -y"
   ]
  },
  {
   "cell_type": "code",
   "execution_count": null,
   "metadata": {
    "scrolled": true
   },
   "outputs": [],
   "source": [
    "kubectl version"
   ]
  },
  {
   "cell_type": "code",
   "execution_count": null,
   "metadata": {},
   "outputs": [],
   "source": []
  },
  {
   "cell_type": "code",
   "execution_count": null,
   "metadata": {},
   "outputs": [],
   "source": []
  },
  {
   "cell_type": "code",
   "execution_count": null,
   "metadata": {},
   "outputs": [],
   "source": []
  },
  {
   "cell_type": "code",
   "execution_count": null,
   "metadata": {},
   "outputs": [],
   "source": []
  },
  {
   "cell_type": "code",
   "execution_count": null,
   "metadata": {},
   "outputs": [],
   "source": [
    "sudo kubectl create -f https://raw.githubusercontent.com/kubernetes/dashboard/master/src/deploy/recommended/kubernetes-dashboard.yaml"
   ]
  },
  {
   "cell_type": "markdown",
   "metadata": {},
   "source": [
    "<p style=\"text-align: center\"><a rel=\"license\" href=\"http://creativecommons.org/licenses/by/4.0/\"><img alt=\"Licencia Creative Commons\" style=\"border-width:0\" src=\"https://i.creativecommons.org/l/by/4.0/80x15.png\" /></a><br />Esta obra está bajo una <a rel=\"license\" href=\"http://creativecommons.org/licenses/by/4.0/\">Licencia Creative Commons Atribución 4.0 Internacional</a>.</p>\n",
    "<p style=\"text-align: center\">&copy; José Luis Chiquete Valdivieso. 2018.</p>"
   ]
  }
 ],
 "metadata": {
  "kernelspec": {
   "display_name": "Bash",
   "language": "bash",
   "name": "bash"
  },
  "language_info": {
   "codemirror_mode": "shell",
   "file_extension": ".sh",
   "mimetype": "text/x-sh",
   "name": "bash"
  }
 },
 "nbformat": 4,
 "nbformat_minor": 2
}
