{
 "cells": [
  {
   "cell_type": "markdown",
   "metadata": {},
   "source": [
    "![cloudevel](imagenes/cloudevel-fondo-twitter.png)"
   ]
  },
  {
   "cell_type": "markdown",
   "metadata": {},
   "source": [
    "Docker es una herramienta que aprovecha las ventajas de GNU/Linux  para crear y gestionar contenedores tales como ```cgroups```.\n",
    "\n",
    "En versiones previas, Docker estaba basado en [LXC](https://linuxcontainers.org/lxc/introduction/), pero a partir de la versión  0.9, Docker utiliza su propia biblioteca llamada ```libcontainer```.\n",
    "\n",
    "El el caso de ser utilizado en un entorno GNU/Linux, Docker es instalado como un servicio del sistema.\n",
    "\n",
    "Recientemente, Docker ha aprovechado las capacidades Hyper-V de Windows para ofrecer contenedores nativos. Sin embargo, Hyper-V no está disponible en versiones básicas de Windows como la versión Home."
   ]
  },
  {
   "cell_type": "markdown",
   "metadata": {},
   "source": [
    "## Ediciones de Docker.\n",
    "\n",
    "Docker ofrece una versión empresarial de su herramienta llamada *Docker Enterprise Edition (EE)* y una versión libre llamada *Docker Community Edition (CE)*."
   ]
  },
  {
   "cell_type": "markdown",
   "metadata": {},
   "source": [
    "### *Docker CE for Windows*.\n",
    "\n",
    "En el sitio de descargas de Docker CE, se puede descargar el paquete *Docker CE for Windows*, el cual aprovecha las funcionalidades de Hyper-V. \n",
    "\n",
    "**Advertencia:** *Docker CE for Windows* hace algunas modificaciones en el sistema operativo que puede provocar que algunos otros hipervisores tales como Virtualbox sean inutilizables.\n",
    "\n",
    "Los detalles de requerimientos para *Docker CE for Windows* pueden ser consultados en https://docs.docker.com/docker-for-windows/install/.\n",
    "\n",
    "### *Docker Toolbox*.\n",
    "\n",
    "En el caso de no contar con los requisitos mínimos para instalar *Docker CE for Windows*, está disponible Docker Toolbox, el cual utiliza Virtualbox en vez de Hyper-V. \n",
    "\n",
    "*Docker Toolbox* está disponible tanto para Mac como para Windows.\n",
    "\n",
    "\n",
    "Los detalles de instalación están disponibles en https://docs.docker.com/toolbox/overview/"
   ]
  },
  {
   "cell_type": "markdown",
   "metadata": {},
   "source": [
    "## Instalación de *Docker CE* en CentOS.\n",
    "\n",
    "El sitio de descargas de *Docker CE* ofrece paquetes de instalación para diversas plataformas. \n",
    "\n",
    "En el caso de CentOS es posible utilizar el repositorio de Docker para instalar la herramienta."
   ]
  },
  {
   "cell_type": "markdown",
   "metadata": {},
   "source": [
    "* Es necesario instalar algunas dependencias previas."
   ]
  },
  {
   "cell_type": "code",
   "execution_count": null,
   "metadata": {},
   "outputs": [],
   "source": [
    "sudo yum install yum-utils device-mapper-persistent-data lvm2 -y"
   ]
  },
  {
   "cell_type": "markdown",
   "metadata": {},
   "source": [
    "* Se debe de dar de alta al repositorio."
   ]
  },
  {
   "cell_type": "code",
   "execution_count": null,
   "metadata": {
    "scrolled": false
   },
   "outputs": [],
   "source": [
    "sudo yum-config-manager --add-repo https://download.docker.com/linux/centos/docker-ce.repo"
   ]
  },
  {
   "cell_type": "code",
   "execution_count": null,
   "metadata": {},
   "outputs": [],
   "source": [
    "sudo yum update -y"
   ]
  },
  {
   "cell_type": "markdown",
   "metadata": {},
   "source": [
    "* Se instalará el software."
   ]
  },
  {
   "cell_type": "code",
   "execution_count": null,
   "metadata": {
    "scrolled": true
   },
   "outputs": [],
   "source": [
    "sudo yum install docker-ce -y"
   ]
  },
  {
   "cell_type": "code",
   "execution_count": null,
   "metadata": {
    "scrolled": true
   },
   "outputs": [],
   "source": [
    "docker -v"
   ]
  },
  {
   "cell_type": "markdown",
   "metadata": {},
   "source": [
    "* Se iniciará y habilitará el servicio."
   ]
  },
  {
   "cell_type": "code",
   "execution_count": null,
   "metadata": {},
   "outputs": [],
   "source": [
    "sudo systemctl enable docker\n",
    "sudo systemctl start docker\n",
    "sudo systemctl status docker"
   ]
  },
  {
   "cell_type": "markdown",
   "metadata": {},
   "source": [
    "## *Docker Hub*."
   ]
  },
  {
   "cell_type": "markdown",
   "metadata": {},
   "source": [
    "Docker basa su funcionalidad en el uso de \"imágenes\" de contenedores creadas previamente, las cuales son accedidas desde un repositorio. Dicho repositorio es conocido como *Docker Hub* y está localizado en https://hub.docker.com.\n",
    "\n",
    "Es posible explorar la biblioteca de imágenes desde https://hub.docker.com/explore."
   ]
  },
  {
   "cell_type": "markdown",
   "metadata": {},
   "source": [
    "## Ejecución de comandos de Docker.\n",
    "\n",
    "El comando ```docker``` permite acceder a funciones de ejecución y gestión de contendores desde una terminal con uin sintaxis como:\n",
    "\n",
    "```docker <subcomando>``` "
   ]
  },
  {
   "cell_type": "markdown",
   "metadata": {},
   "source": [
    "## Ejecución de un contenedor.\n",
    "\n",
    "Para acceder y ejecutar un contenedor sólo es necesario utilizar el siguiente comando con el nombre de la imagen que se desea ejecutar.\n",
    "\n",
    "```docker run  <argumentos> <nombre> <comando>```\n",
    "\n",
    "* Docker buscará la imagen, la descargará y la ejecutará.\n",
    "* Tan pronto como el contenedor termine la ejecución del contenedor, éste será terminado, pero no destruido.\n",
    "\n",
    "Los argumentos de ejecución de un contenedor permiten definir nuchas características de éste, tales como el uso de recursos, conexiones y la interacción con el usuario.\n",
    "\n",
    "**NOTA:** Es necesario que el usuario tenga los permisos suficientes para ejecutar el comando."
   ]
  },
  {
   "cell_type": "code",
   "execution_count": null,
   "metadata": {},
   "outputs": [],
   "source": [
    "docker run --help"
   ]
  },
  {
   "cell_type": "markdown",
   "metadata": {},
   "source": [
    "**Ejemplo:**\n",
    "\n",
    "Se ejecutará la imagen https://hub.docker.com/_/hello-world/"
   ]
  },
  {
   "cell_type": "code",
   "execution_count": null,
   "metadata": {
    "scrolled": false
   },
   "outputs": [],
   "source": [
    "sudo docker run hello-world"
   ]
  },
  {
   "cell_type": "markdown",
   "metadata": {},
   "source": [
    "### Acceso a un contenedor mediante la CLI.\n",
    "\n",
    "Para poder acceder a un contenedor mediante un emulador de terminal se utilizan los parámetros ```-i``` y ```-t``` de la siguiente forma:\n",
    "\n",
    "```docker run -i -t <nombre> <entorno de shell>```\n",
    "\n",
    "El entorno de shell más comunmente utilizado es ```/bin/bash```.\n",
    "\n",
    "El acceso al contenedor siempre será como ```root```."
   ]
  },
  {
   "cell_type": "markdown",
   "metadata": {},
   "source": [
    "**Ejemplo:**\n",
    "\n",
    "Ejecute el siguiente comando desde una terminal para acceder a un contenedor de ubuntu.\n",
    "\n",
    "```\n",
    "sudo docker run -i -t ubuntu /bin/bash\n",
    "```\n",
    "\n",
    "Para salir del contenedor teclee ```exit```."
   ]
  },
  {
   "cell_type": "markdown",
   "metadata": {},
   "source": [
    "## Consulta sobre los contenedores en ejecución.\n",
    "\n",
    "Es posible hacer consultas sobre el estado de los contenedores del sistema local mediante:\n",
    "\n",
    "```docker ps```"
   ]
  },
  {
   "cell_type": "markdown",
   "metadata": {},
   "source": [
    "Al usar ```docker ps``` sin argumentos, el comando nos regresará el listado de contenedores en ejecución.\n",
    "\n",
    "Los nombres de los contenedores son asignados automáticamente por Docker."
   ]
  },
  {
   "cell_type": "markdown",
   "metadata": {},
   "source": [
    "**Ejemplo:** \n",
    "\n",
    "La siguiente celda desplegará el listado de contenedores en ejecución. \n",
    "Si no ha cerrado el contenedor del ejemplo previo, este será enlistado."
   ]
  },
  {
   "cell_type": "code",
   "execution_count": null,
   "metadata": {},
   "outputs": [],
   "source": [
    "sudo docker ps"
   ]
  },
  {
   "cell_type": "markdown",
   "metadata": {},
   "source": [
    "Al usar ```docker ps -a ``` el comando nos regresará el listado de contenedores que hayan sido ejecutados."
   ]
  },
  {
   "cell_type": "markdown",
   "metadata": {},
   "source": [
    "**Ejemplo:**\n",
    "\n",
    "La siguiente celda desplegará el listado de todos los conrtenedores que se hayan ejecutado."
   ]
  },
  {
   "cell_type": "code",
   "execution_count": null,
   "metadata": {},
   "outputs": [],
   "source": [
    "sudo docker ps -a"
   ]
  },
  {
   "cell_type": "markdown",
   "metadata": {},
   "source": [
    "### Eliminación de un contenedor.\n",
    "\n",
    "Para eliminar uno o varios contenedor existentes se puede utilizar el comando:\n",
    "\n",
    "```docker rm <identificadores>```\n",
    "En donde el identificador puede ser el número de ID o el nombre del contenedor."
   ]
  },
  {
   "cell_type": "markdown",
   "metadata": {},
   "source": [
    "**Ejemplo:**\n",
    "\n",
    "A continuación se muestra el listado de varios contendores.\n",
    "\n",
    "``` bash\n",
    "(cloudevel) sudo docker ps -a\n",
    "CONTAINER ID        IMAGE               COMMAND             CREATED             STATUS                    PORTS               NAMES\n",
    "884b0c207631        ubuntu              \"/bin/bash\"         33 minutes ago      Up33 minutes                                 tender_heyrovsky\n",
    "7fb918c28fe6        ubuntu              \"/bin/bash\"         25 hours ago        Exited (0) 25 hours ago                       tender_cori\n",
    "7d521fb52b34        ubuntu              \"/bin/bash\"         25 hours ago        Exited (0) 25 hours ago                       priceless_knuth\n",
    "1b5703e92c67        hello-world         \"/hello\"            27 hours ago        Exited (0) 27 hours ago                       hardcore_gates\n",
    "```\n",
    "Posteriormente se da la instrucción de eliminar el contenedor ```hardcore_gates``` y ```tender_cori``.\n",
    "\n",
    "``` bash\n",
    "(cloudevel) sudo docker rm hardcore_gates\n",
    "```\n",
    "El resultado es el siguiente:\n",
    "\n",
    "``` bash\n",
    "tender_cori\n",
    "(cloudevel) sudo docker ps -a\n",
    "CONTAINER ID        IMAGE               COMMAND             CREATED             STATUS                    PORTS               NAMES\n",
    "884b0c207631        ubuntu              \"/bin/bash\"         34 minutes ago      Up34 minutes                                 tender_heyrovsky\n",
    "7d521fb52b34        ubuntu              \"/bin/bash\"         25 hours ago        Exited (0) 25 hours ago                       priceless_knuth\n",
    "(cloudevel) \n",
    "```"
   ]
  },
  {
   "cell_type": "markdown",
   "metadata": {},
   "source": [
    "## Gestión de imágenes."
   ]
  },
  {
   "cell_type": "markdown",
   "metadata": {},
   "source": [
    "### Listado de imágenes almacenadas localmente."
   ]
  },
  {
   "cell_type": "code",
   "execution_count": null,
   "metadata": {
    "scrolled": true
   },
   "outputs": [],
   "source": [
    "sudo docker images"
   ]
  },
  {
   "cell_type": "markdown",
   "metadata": {},
   "source": [
    "### Búsqueda de imágenes a partir de un término en DockerHub."
   ]
  },
  {
   "cell_type": "code",
   "execution_count": null,
   "metadata": {},
   "outputs": [],
   "source": [
    "sudo docker search jupyter"
   ]
  },
  {
   "cell_type": "markdown",
   "metadata": {},
   "source": [
    "<p style=\"text-align: center\"><a rel=\"license\" href=\"http://creativecommons.org/licenses/by/4.0/\"><img alt=\"Licencia Creative Commons\" style=\"border-width:0\" src=\"https://i.creativecommons.org/l/by/4.0/80x15.png\" /></a><br />Esta obra está bajo una <a rel=\"license\" href=\"http://creativecommons.org/licenses/by/4.0/\">Licencia Creative Commons Atribución 4.0 Internacional</a>.</p>\n",
    "<p style=\"text-align: center\">&copy; José Luis Chiquete Valdivieso. 2018.</p>"
   ]
  }
 ],
 "metadata": {
  "kernelspec": {
   "display_name": "Bash",
   "language": "bash",
   "name": "bash"
  },
  "language_info": {
   "codemirror_mode": "shell",
   "file_extension": ".sh",
   "mimetype": "text/x-sh",
   "name": "bash"
  }
 },
 "nbformat": 4,
 "nbformat_minor": 2
}
